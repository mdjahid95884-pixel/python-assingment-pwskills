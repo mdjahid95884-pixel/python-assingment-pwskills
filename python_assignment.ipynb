{
  "nbformat": 4,
  "nbformat_minor": 0,
  "metadata": {
    "colab": {
      "provenance": []
    },
    "kernelspec": {
      "name": "python3",
      "display_name": "Python 3"
    },
    "language_info": {
      "name": "python"
    }
  },
  "cells": [
    {
      "cell_type": "markdown",
      "source": [
        "# python basic\n",
        "\n"
      ],
      "metadata": {
        "id": "85j0LbH86CkU"
      }
    },
    {
      "cell_type": "markdown",
      "source": [
        " Q1 What is Python, and why is it popular\n",
        "\n",
        "  - python is a interpreter  programming language and known for its simplicity and readability and its popular because of he is versatile  simple and readable\n",
        "  syntax and it's also beginner friendly popular for is vast libabry\n",
        "  strong communinity support and its is popular beacuse of industy deemand\n",
        "\n",
        "  Q2 What is an interpreter in Python\n",
        "\n",
        "  - The Python interpreter is the engine that runs Python code by translating it line by line into instructions the computer can execute\n",
        "\n",
        "  Q3 What are pre-defined keywords in Python\n",
        "\n",
        "  -  pre-defined keywords are special words that Python reserves for its own use, like :-False', 'None', 'True', 'and', 'as', 'assert','await',\n",
        " 'break', 'class', 'continue', 'def', 'del', 'elif', 'else', 'except',\n",
        " 'for', 'from','if', 'import', 'in', 'is','lambda', 'not', 'or','raise','return', 'try','while'. and many more\n",
        "\n",
        " Q4 Can keywords be used as variable names\n",
        "  \n",
        " - no we can't use keywords as varriable names\n",
        "\n",
        " Q5 What is mutability in Python\n",
        "  \n",
        "  -  when we can change values of varriable after creation that's called mutability\n",
        "\n",
        "  Q6 Why are lists mutable, but tuples are immutable\n",
        "\n",
        "   - in list case Python allows in-place modification because the memory allocated for the list can expand or shrink when elements are added/removed but in tuple case Tuples are stored in a fixed memory block once created,Their structure is optimized for speed and memory efficiency\n",
        "Python deliberately restricts changes so that tuples remain hashable\n",
        "\n",
        "Q7 What is the difference between “==” and “is” operators in Python\n",
        "\n",
        " - == (Equality Operator) check the values are same or not while 'is' are (Identity Operator) Checks whether two variables point to the same object in memory\n",
        "\n",
        "Q8 What are logical operators in Python\n",
        "\n",
        " - Logical operators are used to combine conditional statements and return either True or False\n",
        "\n",
        " Q9 What is type casting in Python\n",
        "\n",
        "  - Type casting is the process of changing the data type of a variable from one type to another\n",
        "like:- str to int, int to str, int to float, float to bool\n",
        "\n",
        "Q10 What is the difference between implicit and explicit type casting\n",
        "\n",
        " - Implicit Type Casting Done automatically by Python and in Explicit case Explicit Type Casting Done manually by the programmer using built-in functions, examples :- int(\"string\") this function convert a string into int\n",
        "\n",
        " Q11 What is the purpose of conditional statements in Python\n",
        "\n",
        " - Conditional statements are used to make decisions in a program.\n",
        "They allow Python to execute certain blocks of code only when specific conditions are met in a simple language when we have multiple statement then we use conditional statements\n",
        "\n",
        "Q12 How does the elif statement work\n",
        "\n",
        " - The elif also know as 'else if' statement is used when you want to check multiple conditions in sequence It acts as a bridge between if and else\n",
        "\n",
        " Q13 What is the difference between for and while loops\n",
        "\n",
        "  - 'for loop' Used when you know how many times you want to repeat (iterate over a sequence like list, tuple, string, range)\n",
        "\n",
        "'while loop'Used when you want to repeat until a condition becomes False (number of iterations may not be known)\n",
        "\n",
        "Q14 Describe a scenario where a while loop is more suitable than a for loop\n",
        "\n",
        " - A while loop is more suitable when: You don't know in advance how many times the loop should run The loop should continue until a condition changes\n",
        " for loop wouldn't be natural here, because we don't have a fixed number of iterations"
      ],
      "metadata": {
        "id": "-XxojzFP6OCi"
      }
    },
    {
      "cell_type": "code",
      "source": [
        "# Q1  Write a Python program to print \"Hello, World!\"\n",
        "print(\"Hello, World!\")"
      ],
      "metadata": {
        "colab": {
          "base_uri": "https://localhost:8080/"
        },
        "id": "9YSOsS7zHJN3",
        "outputId": "b0a4a8aa-05d4-42e0-e8da-a0a59a575146"
      },
      "execution_count": 1,
      "outputs": [
        {
          "output_type": "stream",
          "name": "stdout",
          "text": [
            "Hello, World!\n"
          ]
        }
      ]
    },
    {
      "cell_type": "code",
      "source": [
        "#Q2 Write a Python program that displays your name and age\n",
        "\n",
        "my_name = \"mohd jahid\"\n",
        "my_age = 24\n",
        "print(\"name:\", my_name,\"age:\", my_age)"
      ],
      "metadata": {
        "colab": {
          "base_uri": "https://localhost:8080/"
        },
        "id": "zFwYERpSHn6k",
        "outputId": "d0a91d83-d936-4fbd-d1bc-037a4f1bace7"
      },
      "execution_count": 11,
      "outputs": [
        {
          "output_type": "stream",
          "name": "stdout",
          "text": [
            "name: mohd jahid age: 24\n"
          ]
        }
      ]
    },
    {
      "cell_type": "code",
      "source": [
        "#Q3 Write code to print all the pre-defined keywords in Python using the keyword library\n",
        "import keyword\n",
        "print(keyword.kwlist)"
      ],
      "metadata": {
        "colab": {
          "base_uri": "https://localhost:8080/"
        },
        "id": "6gK4vKkuI2ot",
        "outputId": "fd5ce81f-d227-4c73-f221-08b51bdacd17"
      },
      "execution_count": 23,
      "outputs": [
        {
          "output_type": "stream",
          "name": "stdout",
          "text": [
            "['False', 'None', 'True', 'and', 'as', 'assert', 'async', 'await', 'break', 'class', 'continue', 'def', 'del', 'elif', 'else', 'except', 'finally', 'for', 'from', 'global', 'if', 'import', 'in', 'is', 'lambda', 'nonlocal', 'not', 'or', 'pass', 'raise', 'return', 'try', 'while', 'with', 'yield']\n"
          ]
        }
      ]
    },
    {
      "cell_type": "code",
      "source": [
        "#Q4 Write a program that checks if a given word is a Python keyword\n",
        "\n",
        "import keyword\n",
        "\n",
        "word = input(\"Enter a word to check if it's a Python keyword: \")\n",
        "\n",
        "if keyword.iskeyword(word):\n",
        "    print(f\"'{word}' is a Python keyword.\")\n",
        "else:\n",
        "    print(f\"'{word}' is NOT a Python keyword.\")\n"
      ],
      "metadata": {
        "colab": {
          "base_uri": "https://localhost:8080/"
        },
        "id": "vC-JbYI1KuF7",
        "outputId": "65056825-d727-48a9-fae0-5138d63850f5"
      },
      "execution_count": 25,
      "outputs": [
        {
          "output_type": "stream",
          "name": "stdout",
          "text": [
            "Enter a word to check if it's a Python keyword: if\n",
            "'if' is a Python keyword.\n"
          ]
        }
      ]
    },
    {
      "cell_type": "code",
      "source": [
        "\"\"\" #Q5 Create a list and tuple in Python, and demonstrate how attempting to change an element works differently\n",
        "for each \"\"\"\n",
        "\n",
        "my_list = [1, 2, 3, 4, 5]\n",
        "print(my_list)\n",
        "my_list[4] = 40\n",
        "print(my_list)\n",
        "\n",
        "my_tuple = (1, 2, 3, 4, 5)\n",
        "print(my_tuple)\n",
        "my_tuple[0] = 60\n",
        "print(my_tuple)\n",
        "\n"
      ],
      "metadata": {
        "colab": {
          "base_uri": "https://localhost:8080/",
          "height": 263
        },
        "id": "h7rYs_M9MFd1",
        "outputId": "b81ca8a0-186c-4d91-def2-b155f5bc08db"
      },
      "execution_count": 30,
      "outputs": [
        {
          "output_type": "stream",
          "name": "stdout",
          "text": [
            "[1, 2, 3, 4, 5]\n",
            "[1, 2, 3, 4, 40]\n",
            "(1, 2, 3, 4, 5)\n"
          ]
        },
        {
          "output_type": "error",
          "ename": "TypeError",
          "evalue": "'tuple' object does not support item assignment",
          "traceback": [
            "\u001b[0;31m---------------------------------------------------------------------------\u001b[0m",
            "\u001b[0;31mTypeError\u001b[0m                                 Traceback (most recent call last)",
            "\u001b[0;32m/tmp/ipython-input-1453337808.py\u001b[0m in \u001b[0;36m<cell line: 0>\u001b[0;34m()\u001b[0m\n\u001b[1;32m      9\u001b[0m \u001b[0mmy_tuple\u001b[0m \u001b[0;34m=\u001b[0m \u001b[0;34m(\u001b[0m\u001b[0;36m1\u001b[0m\u001b[0;34m,\u001b[0m \u001b[0;36m2\u001b[0m\u001b[0;34m,\u001b[0m \u001b[0;36m3\u001b[0m\u001b[0;34m,\u001b[0m \u001b[0;36m4\u001b[0m\u001b[0;34m,\u001b[0m \u001b[0;36m5\u001b[0m\u001b[0;34m)\u001b[0m\u001b[0;34m\u001b[0m\u001b[0;34m\u001b[0m\u001b[0m\n\u001b[1;32m     10\u001b[0m \u001b[0mprint\u001b[0m\u001b[0;34m(\u001b[0m\u001b[0mmy_tuple\u001b[0m\u001b[0;34m)\u001b[0m\u001b[0;34m\u001b[0m\u001b[0;34m\u001b[0m\u001b[0m\n\u001b[0;32m---> 11\u001b[0;31m \u001b[0mmy_tuple\u001b[0m\u001b[0;34m[\u001b[0m\u001b[0;36m0\u001b[0m\u001b[0;34m]\u001b[0m \u001b[0;34m=\u001b[0m \u001b[0;36m60\u001b[0m\u001b[0;34m\u001b[0m\u001b[0;34m\u001b[0m\u001b[0m\n\u001b[0m\u001b[1;32m     12\u001b[0m \u001b[0mprint\u001b[0m\u001b[0;34m(\u001b[0m\u001b[0mmy_tuple\u001b[0m\u001b[0;34m)\u001b[0m\u001b[0;34m\u001b[0m\u001b[0;34m\u001b[0m\u001b[0m\n\u001b[1;32m     13\u001b[0m \u001b[0;34m\u001b[0m\u001b[0m\n",
            "\u001b[0;31mTypeError\u001b[0m: 'tuple' object does not support item assignment"
          ]
        }
      ]
    },
    {
      "cell_type": "code",
      "metadata": {
        "colab": {
          "base_uri": "https://localhost:8080/"
        },
        "id": "8ca4e324",
        "outputId": "a70de157-6cf3-4b5b-945b-59d5f127a1ec"
      },
      "source": [
        "#Q6 Write a function to demonstrate the behavior of mutable and immutable arguments\n",
        "\n",
        "def demonstrate_mutability(mutable_arg, immutable_arg):\n",
        "\n",
        "  print(\"Inside the function:\")\n",
        "  print(\"Before modification:\")\n",
        "  print(\"mutable_arg:\", mutable_arg)\n",
        "  print(\"immutable_arg:\", immutable_arg)\n",
        "\n",
        "  mutable_arg.append(100)\n",
        "\n",
        "  immutable_arg += 10\n",
        "\n",
        "  print(\"\\nAfter modification:\")\n",
        "  print(\"mutable_arg:\", mutable_arg)\n",
        "  print(\"immutable_arg:\", immutable_arg)\n",
        "  print(\"-\" * 20)\n",
        "\n",
        "my_list = [1, 2, 3]\n",
        "my_integer = 5\n",
        "\n",
        "print(\"Outside the function (before calling):\")\n",
        "print(\"my_list:\", my_list)\n",
        "print(\"my_integer:\", my_integer)\n",
        "print(\"-\" * 20)\n",
        "\n",
        "demonstrate_mutability(my_list, my_integer)\n",
        "\n",
        "print(\"Outside the function (after calling):\")\n",
        "print(\"my_list:\", my_list)\n",
        "print(\"my_integer:\", my_integer)"
      ],
      "execution_count": 31,
      "outputs": [
        {
          "output_type": "stream",
          "name": "stdout",
          "text": [
            "Outside the function (before calling):\n",
            "my_list: [1, 2, 3]\n",
            "my_integer: 5\n",
            "--------------------\n",
            "Inside the function:\n",
            "Before modification:\n",
            "mutable_arg: [1, 2, 3]\n",
            "immutable_arg: 5\n",
            "\n",
            "After modification:\n",
            "mutable_arg: [1, 2, 3, 100]\n",
            "immutable_arg: 15\n",
            "--------------------\n",
            "Outside the function (after calling):\n",
            "my_list: [1, 2, 3, 100]\n",
            "my_integer: 5\n"
          ]
        }
      ]
    },
    {
      "cell_type": "code",
      "source": [
        "#Q7 Write a program that performs basic arithmetic operations on two user-input numbers\n",
        "\n",
        "user_one = int(input(\"user one input\"))\n",
        "user_two = int(input(\"user two input\"))\n",
        "sum = user_one + user_two\n",
        "print(sum)\n"
      ],
      "metadata": {
        "colab": {
          "base_uri": "https://localhost:8080/"
        },
        "id": "hlnIqnCIPWpJ",
        "outputId": "e3266c6e-49d0-4600-bd66-c218994c8ec2"
      },
      "execution_count": 36,
      "outputs": [
        {
          "output_type": "stream",
          "name": "stdout",
          "text": [
            "user one input15\n",
            "user two input35\n",
            "50\n"
          ]
        }
      ]
    },
    {
      "cell_type": "code",
      "source": [
        "#Q8  Write a program to demonstrate the use of logical operators\n",
        "\n",
        "age = 20\n",
        "status = \"adults\"\n",
        "if age > 18 and status == \"adults\":\n",
        "  print(\"You are eligible to vote.\")\n",
        "else:\n",
        "  print(\"You are not eligible to vote.\")\n"
      ],
      "metadata": {
        "colab": {
          "base_uri": "https://localhost:8080/"
        },
        "id": "dIz4Yi9bQ8g0",
        "outputId": "5a37963a-dc35-4905-ebdc-c97f0068b0bc"
      },
      "execution_count": 40,
      "outputs": [
        {
          "output_type": "stream",
          "name": "stdout",
          "text": [
            "You are eligible to vote.\n"
          ]
        }
      ]
    },
    {
      "cell_type": "code",
      "source": [
        "#Q9 Write a Python program to convert user input from string to integer, float, and boolean types\n",
        "\n",
        "user_input = input( \"enter a number\",)\n",
        "\n",
        "integer_value = int(user_input)\n",
        "float_value = float(user_input)\n",
        "boolean_value = bool(user_input)\n",
        "\n",
        "print(\"Integer Value:\", integer_value)\n",
        "print(\"Float Value:\", float_value)\n",
        "print(\"Boolean Value:\", boolean_value)\n",
        "\n"
      ],
      "metadata": {
        "colab": {
          "base_uri": "https://localhost:8080/"
        },
        "id": "VSQSffbnSCUg",
        "outputId": "135ff45a-68fb-45f1-cff9-194d5311827c"
      },
      "execution_count": 47,
      "outputs": [
        {
          "output_type": "stream",
          "name": "stdout",
          "text": [
            "enter a number10\n",
            "Integer Value: 10\n",
            "Float Value: 10.0\n",
            "Boolean Value: True\n"
          ]
        }
      ]
    },
    {
      "cell_type": "code",
      "source": [
        "#10 Write code to demonstrate type casting with list elements\n",
        "\n",
        "my_list = ['1', '2', '3', '4', '5']\n",
        "print(\"Original list of strings:\", my_list)\n",
        "\n",
        "integer_list = []\n",
        "for item in my_list:\n",
        "    integer_list.append(int(item))\n",
        "print(\"List of integers:\", integer_list)\n",
        "\n",
        "float_list = [float(item) for item in my_list]\n",
        "print(\"List of floats:\", float_list)"
      ],
      "metadata": {
        "colab": {
          "base_uri": "https://localhost:8080/"
        },
        "id": "4jPrevfqUJc2",
        "outputId": "80014d7e-f80e-4a84-98df-c44a1afdd07d"
      },
      "execution_count": 54,
      "outputs": [
        {
          "output_type": "stream",
          "name": "stdout",
          "text": [
            "Original list of strings: ['1', '2', '3', '4', '5']\n",
            "List of integers: [1, 2, 3, 4, 5]\n",
            "List of floats: [1.0, 2.0, 3.0, 4.0, 5.0]\n"
          ]
        }
      ]
    },
    {
      "cell_type": "code",
      "source": [
        "#11 Write a program that checks if a number is positive, negative, or zero\n",
        "\n",
        "number = 10\n",
        "if number > 0:\n",
        "  print(\"number is possitive\")\n",
        "\n",
        "elif number < 0:\n",
        "  print(\"number is negative\")\n",
        "\n",
        "else:\n",
        "  print(\"number is zero\")\n"
      ],
      "metadata": {
        "colab": {
          "base_uri": "https://localhost:8080/"
        },
        "id": "Q4qbxXObWWoH",
        "outputId": "5864886b-a6d5-4d06-9fb9-ef48daab4308"
      },
      "execution_count": 55,
      "outputs": [
        {
          "output_type": "stream",
          "name": "stdout",
          "text": [
            "number is possitive\n"
          ]
        }
      ]
    },
    {
      "cell_type": "code",
      "source": [
        "#12 Write a for loop to print numbers from 1 to 10.\n",
        "\n",
        "for i in range(1,11):\n",
        "  print(i)"
      ],
      "metadata": {
        "colab": {
          "base_uri": "https://localhost:8080/"
        },
        "id": "E0dEkX24X9EF",
        "outputId": "882468ad-64a1-4b48-e0b1-d87dcde9c535"
      },
      "execution_count": 56,
      "outputs": [
        {
          "output_type": "stream",
          "name": "stdout",
          "text": [
            "1\n",
            "2\n",
            "3\n",
            "4\n",
            "5\n",
            "6\n",
            "7\n",
            "8\n",
            "9\n",
            "10\n"
          ]
        }
      ]
    },
    {
      "cell_type": "code",
      "source": [
        "#13 Write a Python program to find the sum of all even numbers between 1 and 50\n",
        "\n",
        "even_sum = 0\n",
        "for num in range(1,51):\n",
        "  if num % 2 == 0:\n",
        "\n",
        "    even_sum += num\n",
        "    print(\"total of even number\", even_sum)"
      ],
      "metadata": {
        "colab": {
          "base_uri": "https://localhost:8080/"
        },
        "id": "KyhSVmpjYton",
        "outputId": "9630e10d-3a0c-40b2-f960-59dbb05731c0"
      },
      "execution_count": 73,
      "outputs": [
        {
          "output_type": "stream",
          "name": "stdout",
          "text": [
            "total of even number 2\n",
            "total of even number 6\n",
            "total of even number 12\n",
            "total of even number 20\n",
            "total of even number 30\n",
            "total of even number 42\n",
            "total of even number 56\n",
            "total of even number 72\n",
            "total of even number 90\n",
            "total of even number 110\n",
            "total of even number 132\n",
            "total of even number 156\n",
            "total of even number 182\n",
            "total of even number 210\n",
            "total of even number 240\n",
            "total of even number 272\n",
            "total of even number 306\n",
            "total of even number 342\n",
            "total of even number 380\n",
            "total of even number 420\n",
            "total of even number 462\n",
            "total of even number 506\n",
            "total of even number 552\n",
            "total of even number 600\n",
            "total of even number 650\n"
          ]
        }
      ]
    },
    {
      "cell_type": "code",
      "source": [
        "#14 Write a program to reverse a string using a while loop\n",
        "\n",
        "text = input(\"Enter a string: \")\n",
        "\n",
        "reversed_str = \"\"\n",
        "index = len(text) - 1\n",
        "\n",
        "while index >= 0:\n",
        "    reversed_str += text[index]\n",
        "    index -= 1\n",
        "\n",
        "print(\"Reversed string:\", reversed_str)\n",
        "\n"
      ],
      "metadata": {
        "colab": {
          "base_uri": "https://localhost:8080/"
        },
        "id": "bsSmdgSic3AJ",
        "outputId": "00ae46b2-1a81-49dd-81db-c99d96ce3ea0"
      },
      "execution_count": 76,
      "outputs": [
        {
          "output_type": "stream",
          "name": "stdout",
          "text": [
            "Enter a string: jahid\n",
            "Reversed string: dihaj\n"
          ]
        }
      ]
    },
    {
      "cell_type": "code",
      "source": [
        "#15 Write a Python program to calculate the factorial of a number provided by the user using a while loop\n",
        "\n",
        "num = int(input(\"Enter a number: \"))\n",
        "\n",
        "factorial = 1\n",
        "i = 1\n",
        "while i <= num:\n",
        "    factorial *= i\n",
        "    i += 1\n",
        "print(f\"The factorial of {num} is: {factorial}\")\n"
      ],
      "metadata": {
        "colab": {
          "base_uri": "https://localhost:8080/"
        },
        "id": "2h_80hx0dwYE",
        "outputId": "48452219-315f-4428-c379-f31ca22c669e"
      },
      "execution_count": 77,
      "outputs": [
        {
          "output_type": "stream",
          "name": "stdout",
          "text": [
            "Enter a number: 10\n",
            "The factorial of 10 is: 3628800\n"
          ]
        }
      ]
    }
  ]
}